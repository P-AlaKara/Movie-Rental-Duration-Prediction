{
 "cells": [
  {
   "cell_type": "markdown",
   "id": "b4ae5707-109f-4cd6-8168-88cac0179d6b",
   "metadata": {},
   "source": [
    "![dvd_image](dvd_image.jpg)\n",
    "\n",
    "A DVD rental company needs your help! They want to figure out how many days a customer will rent a DVD for based on some features and has approached you for help. They want you to try out some regression models which will help predict the number of days a customer will rent a DVD for. The company wants a model which yeilds a MSE of 3 or less on a test set. The model you make will help the company become more efficient inventory planning.\n",
    "\n",
    "The data they provided is in the csv file `rental_info.csv`. It has the following features:\n",
    "- `\"rental_date\"`: The date (and time) the customer rents the DVD.\n",
    "- `\"return_date\"`: The date (and time) the customer returns the DVD.\n",
    "- `\"amount\"`: The amount paid by the customer for renting the DVD.\n",
    "- `\"amount_2\"`: The square of `\"amount\"`.\n",
    "- `\"rental_rate\"`: The rate at which the DVD is rented for.\n",
    "- `\"rental_rate_2\"`: The square of `\"rental_rate\"`.\n",
    "- `\"release_year\"`: The year the movie being rented was released.\n",
    "- `\"length\"`: Lenght of the movie being rented, in minuites.\n",
    "- `\"length_2\"`: The square of `\"length\"`.\n",
    "- `\"replacement_cost\"`: The amount it will cost the company to replace the DVD.\n",
    "- `\"special_features\"`: Any special features, for example trailers/deleted scenes that the DVD also has.\n",
    "- `\"NC-17\"`, `\"PG\"`, `\"PG-13\"`, `\"R\"`: These columns are dummy variables of the rating of the movie. It takes the value 1 if the move is rated as the column name and 0 otherwise. For your convinience, the reference dummy has already been dropped."
   ]
  },
  {
   "cell_type": "code",
   "execution_count": 1,
   "id": "a7ede566-910a-445c-b11a-68d192ac8506",
   "metadata": {
    "executionCancelledAt": null,
    "executionTime": 67,
    "lastExecutedAt": 1728071786659,
    "lastExecutedByKernel": "452c88e9-1a5e-4c28-9cef-4e40fa3db389",
    "lastScheduledRunId": null,
    "lastSuccessfullyExecutedCode": "import pandas as pd\nimport numpy as np\n\nfrom sklearn.model_selection import train_test_split\nfrom sklearn.metrics import mean_squared_error\n\n# Import any additional modules and start coding below\ndf = pd.read_csv('rental_info.csv')\nprint(df)",
    "outputsMetadata": {
     "0": {
      "height": 311,
      "type": "stream"
     }
    }
   },
   "outputs": [
    {
     "name": "stdout",
     "output_type": "stream",
     "text": [
      "                 rental_date                return_date  amount  release_year  \\\n",
      "0  2005-05-25 02:54:33+00:00  2005-05-28 23:40:33+00:00    2.99        2005.0   \n",
      "1  2005-06-15 23:19:16+00:00  2005-06-18 19:24:16+00:00    2.99        2005.0   \n",
      "2  2005-07-10 04:27:45+00:00  2005-07-17 10:11:45+00:00    2.99        2005.0   \n",
      "3  2005-07-31 12:06:41+00:00  2005-08-02 14:30:41+00:00    2.99        2005.0   \n",
      "4  2005-08-19 12:30:04+00:00  2005-08-23 13:35:04+00:00    2.99        2005.0   \n",
      "\n",
      "   rental_rate  length  replacement_cost                special_features  \\\n",
      "0         2.99   126.0             16.99  {Trailers,\"Behind the Scenes\"}   \n",
      "1         2.99   126.0             16.99  {Trailers,\"Behind the Scenes\"}   \n",
      "2         2.99   126.0             16.99  {Trailers,\"Behind the Scenes\"}   \n",
      "3         2.99   126.0             16.99  {Trailers,\"Behind the Scenes\"}   \n",
      "4         2.99   126.0             16.99  {Trailers,\"Behind the Scenes\"}   \n",
      "\n",
      "   NC-17  PG  PG-13  R  amount_2  length_2  rental_rate_2  \n",
      "0      0   0      0  1    8.9401   15876.0         8.9401  \n",
      "1      0   0      0  1    8.9401   15876.0         8.9401  \n",
      "2      0   0      0  1    8.9401   15876.0         8.9401  \n",
      "3      0   0      0  1    8.9401   15876.0         8.9401  \n",
      "4      0   0      0  1    8.9401   15876.0         8.9401  \n"
     ]
    }
   ],
   "source": [
    "import pandas as pd\n",
    "import numpy as np\n",
    "\n",
    "from sklearn.model_selection import train_test_split\n",
    "from sklearn.metrics import mean_squared_error\n",
    "\n",
    "# Import any additional modules and start coding below\n",
    "df = pd.read_csv('rental_info.csv')\n",
    "print(df.head())"
   ]
  },
  {
   "cell_type": "code",
   "execution_count": 2,
   "id": "00722499-47dd-4e33-9b57-440cef867867",
   "metadata": {
    "executionCancelledAt": null,
    "executionTime": 54,
    "lastExecutedAt": 1728071786713,
    "lastExecutedByKernel": "452c88e9-1a5e-4c28-9cef-4e40fa3db389",
    "lastScheduledRunId": null,
    "lastSuccessfullyExecutedCode": "SEED = 9\ndf.info()",
    "outputsMetadata": {
     "0": {
      "height": 357,
      "type": "stream"
     }
    }
   },
   "outputs": [
    {
     "name": "stdout",
     "output_type": "stream",
     "text": [
      "<class 'pandas.core.frame.DataFrame'>\n",
      "RangeIndex: 15861 entries, 0 to 15860\n",
      "Data columns (total 15 columns):\n",
      " #   Column            Non-Null Count  Dtype  \n",
      "---  ------            --------------  -----  \n",
      " 0   rental_date       15861 non-null  object \n",
      " 1   return_date       15861 non-null  object \n",
      " 2   amount            15861 non-null  float64\n",
      " 3   release_year      15861 non-null  float64\n",
      " 4   rental_rate       15861 non-null  float64\n",
      " 5   length            15861 non-null  float64\n",
      " 6   replacement_cost  15861 non-null  float64\n",
      " 7   special_features  15861 non-null  object \n",
      " 8   NC-17             15861 non-null  int64  \n",
      " 9   PG                15861 non-null  int64  \n",
      " 10  PG-13             15861 non-null  int64  \n",
      " 11  R                 15861 non-null  int64  \n",
      " 12  amount_2          15861 non-null  float64\n",
      " 13  length_2          15861 non-null  float64\n",
      " 14  rental_rate_2     15861 non-null  float64\n",
      "dtypes: float64(8), int64(4), object(3)\n",
      "memory usage: 1.8+ MB\n"
     ]
    }
   ],
   "source": [
    "SEED = 9\n",
    "df.info()"
   ]
  },
  {
   "cell_type": "markdown",
   "id": "53e42106-99e7-49e0-bd5f-e7e1880a220b",
   "metadata": {},
   "source": [
    "Creating a column named **\"rental_length_days\"** using the columns **\"return_date\"** and **\"rental_date\"**, and adding it to the pandas DataFrame. This column contains information on how many days a DVD has been rented by a customer."
   ]
  },
  {
   "cell_type": "code",
   "execution_count": 3,
   "id": "f94c88ee-04a4-48db-afe0-0c767173dffe",
   "metadata": {
    "executionCancelledAt": null,
    "executionTime": 59,
    "lastExecutedAt": 1728071786773,
    "lastExecutedByKernel": "452c88e9-1a5e-4c28-9cef-4e40fa3db389",
    "lastScheduledRunId": null,
    "lastSuccessfullyExecutedCode": "df['return_date'] = pd.to_datetime(df['return_date'])\ndf['rental_date'] = pd.to_datetime(df['rental_date'])\ndf['rental_length'] = (df['return_date'] - df['rental_date']).dt.days\ndf.drop(['return_date', 'rental_date'], axis=1, inplace=True)\ndf.info()",
    "outputsMetadata": {
     "0": {
      "height": 357,
      "type": "stream"
     }
    }
   },
   "outputs": [
    {
     "name": "stdout",
     "output_type": "stream",
     "text": [
      "<class 'pandas.core.frame.DataFrame'>\n",
      "RangeIndex: 15861 entries, 0 to 15860\n",
      "Data columns (total 14 columns):\n",
      " #   Column            Non-Null Count  Dtype  \n",
      "---  ------            --------------  -----  \n",
      " 0   amount            15861 non-null  float64\n",
      " 1   release_year      15861 non-null  float64\n",
      " 2   rental_rate       15861 non-null  float64\n",
      " 3   length            15861 non-null  float64\n",
      " 4   replacement_cost  15861 non-null  float64\n",
      " 5   special_features  15861 non-null  object \n",
      " 6   NC-17             15861 non-null  int64  \n",
      " 7   PG                15861 non-null  int64  \n",
      " 8   PG-13             15861 non-null  int64  \n",
      " 9   R                 15861 non-null  int64  \n",
      " 10  amount_2          15861 non-null  float64\n",
      " 11  length_2          15861 non-null  float64\n",
      " 12  rental_rate_2     15861 non-null  float64\n",
      " 13  rental_length     15861 non-null  int64  \n",
      "dtypes: float64(8), int64(5), object(1)\n",
      "memory usage: 1.7+ MB\n"
     ]
    }
   ],
   "source": [
    "df['return_date'] = pd.to_datetime(df['return_date'])\n",
    "df['rental_date'] = pd.to_datetime(df['rental_date'])\n",
    "df['rental_length'] = (df['return_date'] - df['rental_date']).dt.days\n",
    "df.drop(['return_date', 'rental_date'], axis=1, inplace=True)\n",
    "df.info()"
   ]
  },
  {
   "cell_type": "code",
   "execution_count": 4,
   "id": "fb03b376-5af0-4eea-b0c1-cb03267f77cc",
   "metadata": {
    "executionCancelledAt": null,
    "executionTime": 52,
    "lastExecutedAt": 1728071786825,
    "lastExecutedByKernel": "452c88e9-1a5e-4c28-9cef-4e40fa3db389",
    "lastScheduledRunId": null,
    "lastSuccessfullyExecutedCode": "df['special_features'].value_counts()",
    "outputsMetadata": {
     "0": {
      "height": 528,
      "type": "dataFrame"
     }
    }
   },
   "outputs": [
    {
     "data": {
      "text/plain": [
       "special_features\n",
       "{Trailers,Commentaries,\"Behind the Scenes\"}                     1308\n",
       "{Trailers}                                                      1139\n",
       "{Trailers,Commentaries}                                         1129\n",
       "{Trailers,\"Behind the Scenes\"}                                  1122\n",
       "{\"Behind the Scenes\"}                                           1108\n",
       "{Commentaries,\"Deleted Scenes\",\"Behind the Scenes\"}             1101\n",
       "{Commentaries}                                                  1089\n",
       "{Commentaries,\"Behind the Scenes\"}                              1078\n",
       "{Trailers,\"Deleted Scenes\"}                                     1047\n",
       "{\"Deleted Scenes\",\"Behind the Scenes\"}                          1035\n",
       "{\"Deleted Scenes\"}                                              1023\n",
       "{Commentaries,\"Deleted Scenes\"}                                 1011\n",
       "{Trailers,Commentaries,\"Deleted Scenes\",\"Behind the Scenes\"}     983\n",
       "{Trailers,Commentaries,\"Deleted Scenes\"}                         916\n",
       "{Trailers,\"Deleted Scenes\",\"Behind the Scenes\"}                  772\n",
       "Name: count, dtype: int64"
      ]
     },
     "execution_count": 4,
     "metadata": {},
     "output_type": "execute_result"
    }
   ],
   "source": [
    "df['special_features'].value_counts()"
   ]
  },
  {
   "cell_type": "markdown",
   "id": "a06415bd-c7ea-452c-a3a9-e37041e50089",
   "metadata": {},
   "source": [
    "Creating two columns of dummy variables from __\"special_features\"__, which takes the value of 1 when:\n",
    "The value is __\"Deleted Scenes\"__, storing as a column called __\"deleted_scenes\"__.\n",
    "The value is __\"Behind the Scenes\"__, storing as a column called __\"behind_the_scenes\"__.\n",
    "We then drop the __\"special features\"__ column."
   ]
  },
  {
   "cell_type": "code",
   "execution_count": 5,
   "id": "af2864ff-f939-4193-9da3-6d5e20d1f9ce",
   "metadata": {
    "executionCancelledAt": null,
    "executionTime": 64,
    "lastExecutedAt": 1728071786889,
    "lastExecutedByKernel": "452c88e9-1a5e-4c28-9cef-4e40fa3db389",
    "lastScheduledRunId": null,
    "lastSuccessfullyExecutedCode": "df[\"deleted_scenes\"] =  np.where(df[\"special_features\"].str.contains(\"Deleted Scenes\"), 1,0)\ndf[\"behind_the_scenes\"] =  np.where(df[\"special_features\"].str.contains(\"Behind the Scenes\"), 1,0)\ndf.drop('special_features', axis=1, inplace=True)"
   },
   "outputs": [],
   "source": [
    "df[\"deleted_scenes\"] =  np.where(df[\"special_features\"].str.contains(\"Deleted Scenes\"), 1,0)\n",
    "df[\"behind_the_scenes\"] =  np.where(df[\"special_features\"].str.contains(\"Behind the Scenes\"), 1,0)\n",
    "df.drop('special_features', axis=1, inplace=True)"
   ]
  },
  {
   "cell_type": "code",
   "execution_count": 6,
   "id": "4f287088-7ef8-4677-949a-54afc3275f0e",
   "metadata": {},
   "outputs": [
    {
     "data": {
      "text/html": [
       "<div>\n",
       "<style scoped>\n",
       "    .dataframe tbody tr th:only-of-type {\n",
       "        vertical-align: middle;\n",
       "    }\n",
       "\n",
       "    .dataframe tbody tr th {\n",
       "        vertical-align: top;\n",
       "    }\n",
       "\n",
       "    .dataframe thead th {\n",
       "        text-align: right;\n",
       "    }\n",
       "</style>\n",
       "<table border=\"1\" class=\"dataframe\">\n",
       "  <thead>\n",
       "    <tr style=\"text-align: right;\">\n",
       "      <th></th>\n",
       "      <th>amount</th>\n",
       "      <th>release_year</th>\n",
       "      <th>rental_rate</th>\n",
       "      <th>length</th>\n",
       "      <th>replacement_cost</th>\n",
       "      <th>NC-17</th>\n",
       "      <th>PG</th>\n",
       "      <th>PG-13</th>\n",
       "      <th>R</th>\n",
       "      <th>amount_2</th>\n",
       "      <th>length_2</th>\n",
       "      <th>rental_rate_2</th>\n",
       "      <th>rental_length</th>\n",
       "      <th>deleted_scenes</th>\n",
       "      <th>behind_the_scenes</th>\n",
       "    </tr>\n",
       "  </thead>\n",
       "  <tbody>\n",
       "    <tr>\n",
       "      <th>count</th>\n",
       "      <td>15861.000000</td>\n",
       "      <td>15861.000000</td>\n",
       "      <td>15861.000000</td>\n",
       "      <td>15861.000000</td>\n",
       "      <td>15861.000000</td>\n",
       "      <td>15861.000000</td>\n",
       "      <td>15861.000000</td>\n",
       "      <td>15861.000000</td>\n",
       "      <td>15861.000000</td>\n",
       "      <td>15861.000000</td>\n",
       "      <td>15861.000000</td>\n",
       "      <td>15861.000000</td>\n",
       "      <td>15861.000000</td>\n",
       "      <td>15861.000000</td>\n",
       "      <td>15861.000000</td>\n",
       "    </tr>\n",
       "    <tr>\n",
       "      <th>mean</th>\n",
       "      <td>4.217161</td>\n",
       "      <td>2006.885379</td>\n",
       "      <td>2.944101</td>\n",
       "      <td>114.994578</td>\n",
       "      <td>20.224727</td>\n",
       "      <td>0.204842</td>\n",
       "      <td>0.200303</td>\n",
       "      <td>0.223378</td>\n",
       "      <td>0.198726</td>\n",
       "      <td>23.355504</td>\n",
       "      <td>14832.841876</td>\n",
       "      <td>11.389287</td>\n",
       "      <td>4.525944</td>\n",
       "      <td>0.497320</td>\n",
       "      <td>0.536347</td>\n",
       "    </tr>\n",
       "    <tr>\n",
       "      <th>std</th>\n",
       "      <td>2.360383</td>\n",
       "      <td>2.025027</td>\n",
       "      <td>1.649766</td>\n",
       "      <td>40.114715</td>\n",
       "      <td>6.083784</td>\n",
       "      <td>0.403599</td>\n",
       "      <td>0.400239</td>\n",
       "      <td>0.416523</td>\n",
       "      <td>0.399054</td>\n",
       "      <td>23.503164</td>\n",
       "      <td>9393.431996</td>\n",
       "      <td>10.005293</td>\n",
       "      <td>2.635108</td>\n",
       "      <td>0.500009</td>\n",
       "      <td>0.498693</td>\n",
       "    </tr>\n",
       "    <tr>\n",
       "      <th>min</th>\n",
       "      <td>0.990000</td>\n",
       "      <td>2004.000000</td>\n",
       "      <td>0.990000</td>\n",
       "      <td>46.000000</td>\n",
       "      <td>9.990000</td>\n",
       "      <td>0.000000</td>\n",
       "      <td>0.000000</td>\n",
       "      <td>0.000000</td>\n",
       "      <td>0.000000</td>\n",
       "      <td>0.980100</td>\n",
       "      <td>2116.000000</td>\n",
       "      <td>0.980100</td>\n",
       "      <td>0.000000</td>\n",
       "      <td>0.000000</td>\n",
       "      <td>0.000000</td>\n",
       "    </tr>\n",
       "    <tr>\n",
       "      <th>25%</th>\n",
       "      <td>2.990000</td>\n",
       "      <td>2005.000000</td>\n",
       "      <td>0.990000</td>\n",
       "      <td>81.000000</td>\n",
       "      <td>14.990000</td>\n",
       "      <td>0.000000</td>\n",
       "      <td>0.000000</td>\n",
       "      <td>0.000000</td>\n",
       "      <td>0.000000</td>\n",
       "      <td>8.940100</td>\n",
       "      <td>6561.000000</td>\n",
       "      <td>0.980100</td>\n",
       "      <td>2.000000</td>\n",
       "      <td>0.000000</td>\n",
       "      <td>0.000000</td>\n",
       "    </tr>\n",
       "    <tr>\n",
       "      <th>50%</th>\n",
       "      <td>3.990000</td>\n",
       "      <td>2007.000000</td>\n",
       "      <td>2.990000</td>\n",
       "      <td>114.000000</td>\n",
       "      <td>20.990000</td>\n",
       "      <td>0.000000</td>\n",
       "      <td>0.000000</td>\n",
       "      <td>0.000000</td>\n",
       "      <td>0.000000</td>\n",
       "      <td>15.920100</td>\n",
       "      <td>12996.000000</td>\n",
       "      <td>8.940100</td>\n",
       "      <td>5.000000</td>\n",
       "      <td>0.000000</td>\n",
       "      <td>1.000000</td>\n",
       "    </tr>\n",
       "    <tr>\n",
       "      <th>75%</th>\n",
       "      <td>4.990000</td>\n",
       "      <td>2009.000000</td>\n",
       "      <td>4.990000</td>\n",
       "      <td>148.000000</td>\n",
       "      <td>25.990000</td>\n",
       "      <td>0.000000</td>\n",
       "      <td>0.000000</td>\n",
       "      <td>0.000000</td>\n",
       "      <td>0.000000</td>\n",
       "      <td>24.900100</td>\n",
       "      <td>21904.000000</td>\n",
       "      <td>24.900100</td>\n",
       "      <td>7.000000</td>\n",
       "      <td>1.000000</td>\n",
       "      <td>1.000000</td>\n",
       "    </tr>\n",
       "    <tr>\n",
       "      <th>max</th>\n",
       "      <td>11.990000</td>\n",
       "      <td>2010.000000</td>\n",
       "      <td>4.990000</td>\n",
       "      <td>185.000000</td>\n",
       "      <td>29.990000</td>\n",
       "      <td>1.000000</td>\n",
       "      <td>1.000000</td>\n",
       "      <td>1.000000</td>\n",
       "      <td>1.000000</td>\n",
       "      <td>143.760100</td>\n",
       "      <td>34225.000000</td>\n",
       "      <td>24.900100</td>\n",
       "      <td>9.000000</td>\n",
       "      <td>1.000000</td>\n",
       "      <td>1.000000</td>\n",
       "    </tr>\n",
       "  </tbody>\n",
       "</table>\n",
       "</div>"
      ],
      "text/plain": [
       "             amount  release_year   rental_rate        length  \\\n",
       "count  15861.000000  15861.000000  15861.000000  15861.000000   \n",
       "mean       4.217161   2006.885379      2.944101    114.994578   \n",
       "std        2.360383      2.025027      1.649766     40.114715   \n",
       "min        0.990000   2004.000000      0.990000     46.000000   \n",
       "25%        2.990000   2005.000000      0.990000     81.000000   \n",
       "50%        3.990000   2007.000000      2.990000    114.000000   \n",
       "75%        4.990000   2009.000000      4.990000    148.000000   \n",
       "max       11.990000   2010.000000      4.990000    185.000000   \n",
       "\n",
       "       replacement_cost         NC-17            PG         PG-13  \\\n",
       "count      15861.000000  15861.000000  15861.000000  15861.000000   \n",
       "mean          20.224727      0.204842      0.200303      0.223378   \n",
       "std            6.083784      0.403599      0.400239      0.416523   \n",
       "min            9.990000      0.000000      0.000000      0.000000   \n",
       "25%           14.990000      0.000000      0.000000      0.000000   \n",
       "50%           20.990000      0.000000      0.000000      0.000000   \n",
       "75%           25.990000      0.000000      0.000000      0.000000   \n",
       "max           29.990000      1.000000      1.000000      1.000000   \n",
       "\n",
       "                  R      amount_2      length_2  rental_rate_2  rental_length  \\\n",
       "count  15861.000000  15861.000000  15861.000000   15861.000000   15861.000000   \n",
       "mean       0.198726     23.355504  14832.841876      11.389287       4.525944   \n",
       "std        0.399054     23.503164   9393.431996      10.005293       2.635108   \n",
       "min        0.000000      0.980100   2116.000000       0.980100       0.000000   \n",
       "25%        0.000000      8.940100   6561.000000       0.980100       2.000000   \n",
       "50%        0.000000     15.920100  12996.000000       8.940100       5.000000   \n",
       "75%        0.000000     24.900100  21904.000000      24.900100       7.000000   \n",
       "max        1.000000    143.760100  34225.000000      24.900100       9.000000   \n",
       "\n",
       "       deleted_scenes  behind_the_scenes  \n",
       "count    15861.000000       15861.000000  \n",
       "mean         0.497320           0.536347  \n",
       "std          0.500009           0.498693  \n",
       "min          0.000000           0.000000  \n",
       "25%          0.000000           0.000000  \n",
       "50%          0.000000           1.000000  \n",
       "75%          1.000000           1.000000  \n",
       "max          1.000000           1.000000  "
      ]
     },
     "execution_count": 6,
     "metadata": {},
     "output_type": "execute_result"
    }
   ],
   "source": [
    "df.describe()"
   ]
  },
  {
   "cell_type": "markdown",
   "id": "cbf64874-e204-4ffb-848b-74b6d776dff8",
   "metadata": {},
   "source": [
    "Check if we have any missing values. "
   ]
  },
  {
   "cell_type": "code",
   "execution_count": 7,
   "id": "eccdf209-d583-4cb4-8f19-c7a4710bf4c5",
   "metadata": {},
   "outputs": [
    {
     "data": {
      "text/plain": [
       "amount               0\n",
       "release_year         0\n",
       "rental_rate          0\n",
       "length               0\n",
       "replacement_cost     0\n",
       "NC-17                0\n",
       "PG                   0\n",
       "PG-13                0\n",
       "R                    0\n",
       "amount_2             0\n",
       "length_2             0\n",
       "rental_rate_2        0\n",
       "rental_length        0\n",
       "deleted_scenes       0\n",
       "behind_the_scenes    0\n",
       "dtype: int64"
      ]
     },
     "execution_count": 7,
     "metadata": {},
     "output_type": "execute_result"
    }
   ],
   "source": [
    "df.isna().sum()"
   ]
  },
  {
   "cell_type": "markdown",
   "id": "47aa3142-03ad-4457-ba0d-bbbaabc1ff15",
   "metadata": {},
   "source": [
    "Making a pandas DataFrame called X containing all the appropriate features used to run the regression models, avoiding columns that leak data about the target.\n",
    "Choose the \"rental_length_days\" as the target column and save it as a pandas Series called y."
   ]
  },
  {
   "cell_type": "code",
   "execution_count": 8,
   "id": "87997948-42b8-4b57-af92-4369700058d6",
   "metadata": {
    "executionCancelledAt": null,
    "executionTime": 52,
    "lastExecutedAt": 1728071786941,
    "lastExecutedByKernel": "452c88e9-1a5e-4c28-9cef-4e40fa3db389",
    "lastScheduledRunId": null,
    "lastSuccessfullyExecutedCode": "X= df.drop('rental_length', axis=1).values\ny= df['rental_length'].values\ntype(X)",
    "outputsMetadata": {
     "0": {
      "height": 353,
      "type": "stream"
     }
    }
   },
   "outputs": [
    {
     "data": {
      "text/plain": [
       "numpy.ndarray"
      ]
     },
     "execution_count": 8,
     "metadata": {},
     "output_type": "execute_result"
    }
   ],
   "source": [
    "X= df.drop('rental_length', axis=1).values\n",
    "y= df['rental_length'].values\n",
    "type(X)"
   ]
  },
  {
   "cell_type": "markdown",
   "id": "1f7afd77-b287-4a97-b7c3-ef4b45af8c57",
   "metadata": {},
   "source": [
    "Split the data into __X_train, y_train, X_test, and y_test train and test sets__, avoiding any features that leak data about the target variable, and include 20% of the total data in the test set."
   ]
  },
  {
   "cell_type": "code",
   "execution_count": 9,
   "id": "02d27888-eb7c-42f5-a5fd-0e94296074d6",
   "metadata": {
    "executionCancelledAt": null,
    "executionTime": 52,
    "lastExecutedAt": 1728071786993,
    "lastExecutedByKernel": "452c88e9-1a5e-4c28-9cef-4e40fa3db389",
    "lastScheduledRunId": null,
    "lastSuccessfullyExecutedCode": "X_train,X_test,y_train,y_test = train_test_split(X, y, test_size=0.2, random_state=SEED)\nprint(X_train.shape, X_test.shape)",
    "outputsMetadata": {
     "0": {
      "height": 38,
      "type": "stream"
     }
    }
   },
   "outputs": [
    {
     "name": "stdout",
     "output_type": "stream",
     "text": [
      "(12688, 14) (3173, 14)\n"
     ]
    }
   ],
   "source": [
    "X_train,X_test,y_train,y_test = train_test_split(X, y, test_size=0.2, random_state=SEED)\n",
    "print(X_train.shape, X_test.shape)"
   ]
  },
  {
   "cell_type": "markdown",
   "id": "7b057949-2c54-4064-b7d3-4014aef6ff32",
   "metadata": {},
   "source": [
    "Identify the features with the best prediction power for the target variable.\n",
    "Using __Lasso()__ from sklearn.linear_model allows us to look at feature importance by accessing the model's .coef_ attribute, where values over 0 indicate a contribution to the model's performance."
   ]
  },
  {
   "cell_type": "code",
   "execution_count": 10,
   "id": "8f188ad5-d8e8-405e-9e1e-fdd21b466c3f",
   "metadata": {
    "executionCancelledAt": null,
    "executionTime": 125,
    "lastExecutedAt": 1728071787118,
    "lastExecutedByKernel": "452c88e9-1a5e-4c28-9cef-4e40fa3db389",
    "lastScheduledRunId": null,
    "lastSuccessfullyExecutedCode": "from sklearn.linear_model import Lasso\nlasso = Lasso(random_state=SEED, alpha=0.5)\nlasso.fit(X_train, y_train)\n\nmask = lasso.coef_ > 0\n\n# Apply the same mask to both train and test sets\nX_train_selected = X_train[:, mask]\nX_test_selected = X_test[:, mask]\n\nprint(X_train_selected.shape)  # Check the shape after masking\nprint(X_test_selected.shape)",
    "outputsMetadata": {
     "0": {
      "height": 59,
      "type": "stream"
     }
    }
   },
   "outputs": [
    {
     "name": "stdout",
     "output_type": "stream",
     "text": [
      "(12688, 3)\n",
      "(3173, 3)\n"
     ]
    }
   ],
   "source": [
    "from sklearn.linear_model import Lasso\n",
    "lasso = Lasso(random_state=SEED, alpha=0.5)\n",
    "lasso.fit(X_train, y_train)\n",
    "\n",
    "mask = lasso.coef_ > 0\n",
    "\n",
    "# Apply the same mask to both train and test sets\n",
    "X_train_selected = X_train[:, mask]\n",
    "X_test_selected = X_test[:, mask]\n",
    "\n",
    "print(X_train_selected.shape)  # Check the shape after masking\n",
    "print(X_test_selected.shape)"
   ]
  },
  {
   "cell_type": "markdown",
   "id": "acbf295e-5f28-48eb-b7c8-827cf270b5b7",
   "metadata": {},
   "source": [
    "Try a variety of regression models.\n",
    "The __RandomizedSearchCV()__ function allows us to search for the best model performance using random values from ranges of hyperparameters.\n",
    "The mean squared error is computed and the best model i.e. the model with the __lowest MSE__ is selected."
   ]
  },
  {
   "cell_type": "code",
   "execution_count": 11,
   "id": "96aa5545-0e3f-475d-a0b3-c965a8fde48f",
   "metadata": {
    "executionCancelledAt": null,
    "executionTime": null,
    "lastExecutedAt": null,
    "lastExecutedByKernel": null,
    "lastScheduledRunId": null,
    "lastSuccessfullyExecutedCode": null,
    "outputsMetadata": {
     "0": {
      "height": 122,
      "type": "stream"
     }
    }
   },
   "outputs": [
    {
     "name": "stdout",
     "output_type": "stream",
     "text": [
      "LinearRegression Mean Squared Error: 2.941723864697651\n",
      "Tuning hyperparameters for DecisionTreeRegressor...\n",
      "DecisionTreeRegressor Mean Squared Error: 2.2316908200093875\n",
      "Tuning hyperparameters for RandomForestRegressor...\n",
      "RandomForestRegressor Mean Squared Error: 2.020842211224755\n"
     ]
    }
   ],
   "source": [
    "from sklearn.linear_model import LinearRegression\n",
    "from sklearn.tree import DecisionTreeRegressor\n",
    "from sklearn.ensemble import RandomForestRegressor\n",
    "from sklearn.model_selection import RandomizedSearchCV\n",
    "\n",
    "models = {\n",
    "    'LinearRegression': LinearRegression(),\n",
    "    'DecisionTreeRegressor': DecisionTreeRegressor(random_state=SEED),\n",
    "    'RandomForestRegressor': RandomForestRegressor(random_state=SEED)\n",
    "}\n",
    "\n",
    "# Define hyperparameter grids for RandomizedSearchCV\n",
    "param_grids = {\n",
    "    'DecisionTreeRegressor': {\n",
    "        'max_depth': [None, 10, 20, 30],\n",
    "        'min_samples_split': np.arange(2, 10),\n",
    "        'min_samples_leaf': np.arange(1, 5),\n",
    "        'max_features': ['sqrt', 'log2', None]\n",
    "    },\n",
    "    'RandomForestRegressor': {\n",
    "        'n_estimators': np.arange(10, 300, 10),\n",
    "        'max_depth': [None, 10, 20, 30],\n",
    "        'min_samples_split': np.arange(2, 10),\n",
    "        'min_samples_leaf': np.arange(1, 5),\n",
    "        'max_features': ['sqrt', 'log2', None]\n",
    "    }\n",
    "}\n",
    "\n",
    "best_model = None\n",
    "best_mse = float('inf') \n",
    "# Loop through models and tune the tree-based ones\n",
    "for model_name, model in models.items():\n",
    "    if model_name in param_grids:  # If the model has hyperparameters to tune\n",
    "        print(f\"Tuning hyperparameters for {model_name}...\")\n",
    "        search = RandomizedSearchCV(\n",
    "            estimator=model,\n",
    "            param_distributions=param_grids[model_name],\n",
    "            n_iter=10,  \n",
    "            scoring='neg_mean_squared_error',\n",
    "            cv=5,  \n",
    "            random_state=SEED,\n",
    "            n_jobs=-1\n",
    "        )\n",
    "        search.fit(X_train, y_train)\n",
    "        best_model = search.best_estimator_\n",
    "    else:\n",
    "        # If no hyperparameters to tune (LinearRegression)\n",
    "        best_model = model\n",
    "        best_model.fit(X_train, y_train)\n",
    "    \n",
    "    # Evaluate the model\n",
    "    y_pred = best_model.predict(X_test)\n",
    "    mse = mean_squared_error(y_test, y_pred)\n",
    "    print(f\"{model_name} Mean Squared Error: {mse}\")\n",
    "    # Check if this model has the lowest MSE\n",
    "    if mse < best_mse:\n",
    "        best_mse = mse\n",
    "        best_model = best_model  # Save the best model"
   ]
  }
 ],
 "metadata": {
  "colab": {
   "name": "Welcome to DataCamp Workspaces.ipynb",
   "provenance": []
  },
  "kernelspec": {
   "display_name": "Python 3 (ipykernel)",
   "language": "python",
   "name": "python3"
  },
  "language_info": {
   "codemirror_mode": {
    "name": "ipython",
    "version": 3
   },
   "file_extension": ".py",
   "mimetype": "text/x-python",
   "name": "python",
   "nbconvert_exporter": "python",
   "pygments_lexer": "ipython3",
   "version": "3.11.9"
  }
 },
 "nbformat": 4,
 "nbformat_minor": 5
}
